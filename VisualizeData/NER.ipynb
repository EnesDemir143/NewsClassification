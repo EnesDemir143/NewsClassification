{
 "cells": [
  {
   "metadata": {
    "ExecuteTime": {
     "end_time": "2025-05-08T08:09:46.663118Z",
     "start_time": "2025-05-08T08:09:46.659556Z"
    }
   },
   "cell_type": "code",
   "source": "import pandas as pd",
   "id": "b44fa5977d92e300",
   "outputs": [],
   "execution_count": 2
  },
  {
   "metadata": {
    "ExecuteTime": {
     "end_time": "2025-05-08T08:09:47.233442Z",
     "start_time": "2025-05-08T08:09:47.172878Z"
    }
   },
   "cell_type": "code",
   "source": [
    "df = pd.read_csv(r'../Data/bbc-text.csv')\n",
    "df.head()"
   ],
   "id": "36e658a9d1e449b9",
   "outputs": [
    {
     "data": {
      "text/plain": [
       "        category                                               text\n",
       "0           tech  tv future in the hands of viewers with home th...\n",
       "1       business  worldcom boss  left books alone  former worldc...\n",
       "2          sport  tigers wary of farrell  gamble  leicester say ...\n",
       "3          sport  yeading face newcastle in fa cup premiership s...\n",
       "4  entertainment  ocean s twelve raids box office ocean s twelve..."
      ],
      "text/html": [
       "<div>\n",
       "<style scoped>\n",
       "    .dataframe tbody tr th:only-of-type {\n",
       "        vertical-align: middle;\n",
       "    }\n",
       "\n",
       "    .dataframe tbody tr th {\n",
       "        vertical-align: top;\n",
       "    }\n",
       "\n",
       "    .dataframe thead th {\n",
       "        text-align: right;\n",
       "    }\n",
       "</style>\n",
       "<table border=\"1\" class=\"dataframe\">\n",
       "  <thead>\n",
       "    <tr style=\"text-align: right;\">\n",
       "      <th></th>\n",
       "      <th>category</th>\n",
       "      <th>text</th>\n",
       "    </tr>\n",
       "  </thead>\n",
       "  <tbody>\n",
       "    <tr>\n",
       "      <th>0</th>\n",
       "      <td>tech</td>\n",
       "      <td>tv future in the hands of viewers with home th...</td>\n",
       "    </tr>\n",
       "    <tr>\n",
       "      <th>1</th>\n",
       "      <td>business</td>\n",
       "      <td>worldcom boss  left books alone  former worldc...</td>\n",
       "    </tr>\n",
       "    <tr>\n",
       "      <th>2</th>\n",
       "      <td>sport</td>\n",
       "      <td>tigers wary of farrell  gamble  leicester say ...</td>\n",
       "    </tr>\n",
       "    <tr>\n",
       "      <th>3</th>\n",
       "      <td>sport</td>\n",
       "      <td>yeading face newcastle in fa cup premiership s...</td>\n",
       "    </tr>\n",
       "    <tr>\n",
       "      <th>4</th>\n",
       "      <td>entertainment</td>\n",
       "      <td>ocean s twelve raids box office ocean s twelve...</td>\n",
       "    </tr>\n",
       "  </tbody>\n",
       "</table>\n",
       "</div>"
      ]
     },
     "execution_count": 3,
     "metadata": {},
     "output_type": "execute_result"
    }
   ],
   "execution_count": 3
  },
  {
   "cell_type": "code",
   "id": "initial_id",
   "metadata": {
    "collapsed": true,
    "ExecuteTime": {
     "end_time": "2025-05-08T08:09:48.146337Z",
     "start_time": "2025-05-08T08:09:47.842604Z"
    }
   },
   "source": [
    "import spacy\n",
    "\n",
    "nlp = spacy.load('en_core_web_sm')"
   ],
   "outputs": [],
   "execution_count": 4
  },
  {
   "metadata": {
    "ExecuteTime": {
     "end_time": "2025-05-08T08:10:18.155428Z",
     "start_time": "2025-05-08T08:10:18.002850Z"
    }
   },
   "cell_type": "code",
   "source": "doc = nlp(df.text[0])",
   "id": "5d0ced910505e272",
   "outputs": [],
   "execution_count": 5
  },
  {
   "metadata": {
    "ExecuteTime": {
     "end_time": "2025-05-08T08:12:03.027221Z",
     "start_time": "2025-05-08T08:12:03.024034Z"
    }
   },
   "cell_type": "code",
   "source": [
    "for token in doc.ents:\n",
    "    print(token.label_, ' | ', spacy.explain(token.label_))"
   ],
   "id": "9cfaa4c0955fa3fe",
   "outputs": [
    {
     "name": "stdout",
     "output_type": "stream",
     "text": [
      "DATE  |  Absolute or relative dates or periods\n",
      "DATE  |  Absolute or relative dates or periods\n",
      "GPE  |  Countries, cities, states\n",
      "CARDINAL  |  Numerals that do not fall under another type\n",
      "GPE  |  Countries, cities, states\n",
      "CARDINAL  |  Numerals that do not fall under another type\n",
      "GPE  |  Countries, cities, states\n",
      "ORG  |  Companies, agencies, institutions, etc.\n",
      "GPE  |  Countries, cities, states\n",
      "GPE  |  Countries, cities, states\n",
      "LOC  |  Non-GPE locations, mountain ranges, bodies of water\n",
      "GPE  |  Countries, cities, states\n",
      "LOC  |  Non-GPE locations, mountain ranges, bodies of water\n",
      "PERSON  |  People, including fictional\n",
      "DATE  |  Absolute or relative dates or periods\n",
      "DATE  |  Absolute or relative dates or periods\n",
      "GPE  |  Countries, cities, states\n",
      "ORG  |  Companies, agencies, institutions, etc.\n",
      "ORG  |  Companies, agencies, institutions, etc.\n",
      "ORG  |  Companies, agencies, institutions, etc.\n",
      "PERSON  |  People, including fictional\n",
      "PERSON  |  People, including fictional\n",
      "PRODUCT  |  Objects, vehicles, foods, etc. (not services)\n",
      "CARDINAL  |  Numerals that do not fall under another type\n",
      "CARDINAL  |  Numerals that do not fall under another type\n",
      "QUANTITY  |  Measurements, as of weight or distance\n",
      "TIME  |  Times smaller than a day\n",
      "CARDINAL  |  Numerals that do not fall under another type\n",
      "GPE  |  Countries, cities, states\n",
      "TIME  |  Times smaller than a day\n",
      "TIME  |  Times smaller than a day\n",
      "ORG  |  Companies, agencies, institutions, etc.\n"
     ]
    }
   ],
   "execution_count": 6
  },
  {
   "metadata": {},
   "cell_type": "code",
   "outputs": [],
   "execution_count": null,
   "source": "",
   "id": "3a2d7c7eee477492"
  }
 ],
 "metadata": {
  "kernelspec": {
   "display_name": "Python 3",
   "language": "python",
   "name": "python3"
  },
  "language_info": {
   "codemirror_mode": {
    "name": "ipython",
    "version": 2
   },
   "file_extension": ".py",
   "mimetype": "text/x-python",
   "name": "python",
   "nbconvert_exporter": "python",
   "pygments_lexer": "ipython2",
   "version": "2.7.6"
  }
 },
 "nbformat": 4,
 "nbformat_minor": 5
}
