{
 "cells": [
  {
   "cell_type": "code",
   "id": "initial_id",
   "metadata": {
    "collapsed": true,
    "ExecuteTime": {
     "end_time": "2025-05-08T11:29:31.775535Z",
     "start_time": "2025-05-08T11:29:31.641935Z"
    }
   },
   "source": [
    "import gensim.downloader as api\n",
    "from sympy.stats.sampling.sample_numpy import numpy\n",
    "\n",
    "wv = api.load('word2vec-google-news-300')"
   ],
   "outputs": [
    {
     "ename": "ValueError",
     "evalue": "numpy.dtype size changed, may indicate binary incompatibility. Expected 96 from C header, got 88 from PyObject",
     "output_type": "error",
     "traceback": [
      "\u001B[31m---------------------------------------------------------------------------\u001B[39m",
      "\u001B[31mValueError\u001B[39m                                Traceback (most recent call last)",
      "\u001B[36mCell\u001B[39m\u001B[36m \u001B[39m\u001B[32mIn[6]\u001B[39m\u001B[32m, line 1\u001B[39m\n\u001B[32m----> \u001B[39m\u001B[32m1\u001B[39m \u001B[38;5;28;01mimport\u001B[39;00m\u001B[38;5;250m \u001B[39m\u001B[34;01mgensim\u001B[39;00m\u001B[34;01m.\u001B[39;00m\u001B[34;01mdownloader\u001B[39;00m\u001B[38;5;250m \u001B[39m\u001B[38;5;28;01mas\u001B[39;00m\u001B[38;5;250m \u001B[39m\u001B[34;01mapi\u001B[39;00m\n\u001B[32m      2\u001B[39m \u001B[38;5;28;01mfrom\u001B[39;00m\u001B[38;5;250m \u001B[39m\u001B[34;01msympy\u001B[39;00m\u001B[34;01m.\u001B[39;00m\u001B[34;01mstats\u001B[39;00m\u001B[34;01m.\u001B[39;00m\u001B[34;01msampling\u001B[39;00m\u001B[34;01m.\u001B[39;00m\u001B[34;01msample_numpy\u001B[39;00m\u001B[38;5;250m \u001B[39m\u001B[38;5;28;01mimport\u001B[39;00m numpy\n\u001B[32m      4\u001B[39m wv = api.load(\u001B[33m'\u001B[39m\u001B[33mword2vec-google-news-300\u001B[39m\u001B[33m'\u001B[39m)\n",
      "\u001B[36mFile \u001B[39m\u001B[32m~/Desktop/NewsClassification/.venv/lib/python3.12/site-packages/gensim/__init__.py:11\u001B[39m\n\u001B[32m      7\u001B[39m __version__ = \u001B[33m'\u001B[39m\u001B[33m4.3.3\u001B[39m\u001B[33m'\u001B[39m\n\u001B[32m      9\u001B[39m \u001B[38;5;28;01mimport\u001B[39;00m\u001B[38;5;250m \u001B[39m\u001B[34;01mlogging\u001B[39;00m\n\u001B[32m---> \u001B[39m\u001B[32m11\u001B[39m \u001B[38;5;28;01mfrom\u001B[39;00m\u001B[38;5;250m \u001B[39m\u001B[34;01mgensim\u001B[39;00m\u001B[38;5;250m \u001B[39m\u001B[38;5;28;01mimport\u001B[39;00m parsing, corpora, matutils, interfaces, models, similarities, utils  \u001B[38;5;66;03m# noqa:F401\u001B[39;00m\n\u001B[32m     14\u001B[39m logger = logging.getLogger(\u001B[33m'\u001B[39m\u001B[33mgensim\u001B[39m\u001B[33m'\u001B[39m)\n\u001B[32m     15\u001B[39m \u001B[38;5;28;01mif\u001B[39;00m \u001B[38;5;129;01mnot\u001B[39;00m logger.handlers:  \u001B[38;5;66;03m# To ensure reload() doesn't add another one\u001B[39;00m\n",
      "\u001B[36mFile \u001B[39m\u001B[32m~/Desktop/NewsClassification/.venv/lib/python3.12/site-packages/gensim/corpora/__init__.py:6\u001B[39m\n\u001B[32m      1\u001B[39m \u001B[33;03m\"\"\"\u001B[39;00m\n\u001B[32m      2\u001B[39m \u001B[33;03mThis package contains implementations of various streaming corpus I/O format.\u001B[39;00m\n\u001B[32m      3\u001B[39m \u001B[33;03m\"\"\"\u001B[39;00m\n\u001B[32m      5\u001B[39m \u001B[38;5;66;03m# bring corpus classes directly into package namespace, to save some typing\u001B[39;00m\n\u001B[32m----> \u001B[39m\u001B[32m6\u001B[39m \u001B[38;5;28;01mfrom\u001B[39;00m\u001B[38;5;250m \u001B[39m\u001B[34;01m.\u001B[39;00m\u001B[34;01mindexedcorpus\u001B[39;00m\u001B[38;5;250m \u001B[39m\u001B[38;5;28;01mimport\u001B[39;00m IndexedCorpus  \u001B[38;5;66;03m# noqa:F401 must appear before the other classes\u001B[39;00m\n\u001B[32m      8\u001B[39m \u001B[38;5;28;01mfrom\u001B[39;00m\u001B[38;5;250m \u001B[39m\u001B[34;01m.\u001B[39;00m\u001B[34;01mmmcorpus\u001B[39;00m\u001B[38;5;250m \u001B[39m\u001B[38;5;28;01mimport\u001B[39;00m MmCorpus  \u001B[38;5;66;03m# noqa:F401\u001B[39;00m\n\u001B[32m      9\u001B[39m \u001B[38;5;28;01mfrom\u001B[39;00m\u001B[38;5;250m \u001B[39m\u001B[34;01m.\u001B[39;00m\u001B[34;01mbleicorpus\u001B[39;00m\u001B[38;5;250m \u001B[39m\u001B[38;5;28;01mimport\u001B[39;00m BleiCorpus  \u001B[38;5;66;03m# noqa:F401\u001B[39;00m\n",
      "\u001B[36mFile \u001B[39m\u001B[32m~/Desktop/NewsClassification/.venv/lib/python3.12/site-packages/gensim/corpora/indexedcorpus.py:14\u001B[39m\n\u001B[32m     10\u001B[39m \u001B[38;5;28;01mimport\u001B[39;00m\u001B[38;5;250m \u001B[39m\u001B[34;01mlogging\u001B[39;00m\n\u001B[32m     12\u001B[39m \u001B[38;5;28;01mimport\u001B[39;00m\u001B[38;5;250m \u001B[39m\u001B[34;01mnumpy\u001B[39;00m\n\u001B[32m---> \u001B[39m\u001B[32m14\u001B[39m \u001B[38;5;28;01mfrom\u001B[39;00m\u001B[38;5;250m \u001B[39m\u001B[34;01mgensim\u001B[39;00m\u001B[38;5;250m \u001B[39m\u001B[38;5;28;01mimport\u001B[39;00m interfaces, utils\n\u001B[32m     16\u001B[39m logger = logging.getLogger(\u001B[34m__name__\u001B[39m)\n\u001B[32m     19\u001B[39m \u001B[38;5;28;01mclass\u001B[39;00m\u001B[38;5;250m \u001B[39m\u001B[34;01mIndexedCorpus\u001B[39;00m(interfaces.CorpusABC):\n",
      "\u001B[36mFile \u001B[39m\u001B[32m~/Desktop/NewsClassification/.venv/lib/python3.12/site-packages/gensim/interfaces.py:19\u001B[39m\n\u001B[32m      7\u001B[39m \u001B[33;03m\"\"\"Basic interfaces used across the whole Gensim package.\u001B[39;00m\n\u001B[32m      8\u001B[39m \n\u001B[32m      9\u001B[39m \u001B[33;03mThese interfaces are used for building corpora, model transformation and similarity queries.\u001B[39;00m\n\u001B[32m   (...)\u001B[39m\u001B[32m     14\u001B[39m \n\u001B[32m     15\u001B[39m \u001B[33;03m\"\"\"\u001B[39;00m\n\u001B[32m     17\u001B[39m \u001B[38;5;28;01mimport\u001B[39;00m\u001B[38;5;250m \u001B[39m\u001B[34;01mlogging\u001B[39;00m\n\u001B[32m---> \u001B[39m\u001B[32m19\u001B[39m \u001B[38;5;28;01mfrom\u001B[39;00m\u001B[38;5;250m \u001B[39m\u001B[34;01mgensim\u001B[39;00m\u001B[38;5;250m \u001B[39m\u001B[38;5;28;01mimport\u001B[39;00m utils, matutils\n\u001B[32m     22\u001B[39m logger = logging.getLogger(\u001B[34m__name__\u001B[39m)\n\u001B[32m     25\u001B[39m \u001B[38;5;28;01mclass\u001B[39;00m\u001B[38;5;250m \u001B[39m\u001B[34;01mCorpusABC\u001B[39;00m(utils.SaveLoad):\n",
      "\u001B[36mFile \u001B[39m\u001B[32m~/Desktop/NewsClassification/.venv/lib/python3.12/site-packages/gensim/matutils.py:1034\u001B[39m\n\u001B[32m   1029\u001B[39m     \u001B[38;5;28;01mreturn\u001B[39;00m \u001B[32m1.\u001B[39m - \u001B[38;5;28mfloat\u001B[39m(\u001B[38;5;28mlen\u001B[39m(set1 & set2)) / \u001B[38;5;28mfloat\u001B[39m(union_cardinality)\n\u001B[32m   1032\u001B[39m \u001B[38;5;28;01mtry\u001B[39;00m:\n\u001B[32m   1033\u001B[39m     \u001B[38;5;66;03m# try to load fast, cythonized code if possible\u001B[39;00m\n\u001B[32m-> \u001B[39m\u001B[32m1034\u001B[39m     \u001B[38;5;28;01mfrom\u001B[39;00m\u001B[38;5;250m \u001B[39m\u001B[34;01mgensim\u001B[39;00m\u001B[34;01m.\u001B[39;00m\u001B[34;01m_matutils\u001B[39;00m\u001B[38;5;250m \u001B[39m\u001B[38;5;28;01mimport\u001B[39;00m logsumexp, mean_absolute_difference, dirichlet_expectation\n\u001B[32m   1036\u001B[39m \u001B[38;5;28;01mexcept\u001B[39;00m \u001B[38;5;167;01mImportError\u001B[39;00m:\n\u001B[32m   1037\u001B[39m     \u001B[38;5;28;01mdef\u001B[39;00m\u001B[38;5;250m \u001B[39m\u001B[34mlogsumexp\u001B[39m(x):\n",
      "\u001B[36mFile \u001B[39m\u001B[32m~/Desktop/NewsClassification/.venv/lib/python3.12/site-packages/gensim/_matutils.pyx:1\u001B[39m, in \u001B[36minit gensim._matutils\u001B[39m\u001B[34m()\u001B[39m\n",
      "\u001B[31mValueError\u001B[39m: numpy.dtype size changed, may indicate binary incompatibility. Expected 96 from C header, got 88 from PyObject"
     ]
    }
   ],
   "execution_count": 6
  },
  {
   "metadata": {
    "ExecuteTime": {
     "end_time": "2025-05-08T11:29:22.569249Z",
     "start_time": "2025-05-08T11:28:56.285351Z"
    }
   },
   "cell_type": "code",
   "source": "    %pip install numpy==1.23.5",
   "id": "f7c29df2f69b106e",
   "outputs": [
    {
     "name": "stdout",
     "output_type": "stream",
     "text": [
      "Collecting numpy==1.23.5\r\n",
      "  Downloading numpy-1.23.5.tar.gz (10.7 MB)\r\n",
      "\u001B[2K     \u001B[90m━━━━━━━━━━━━━━━━━━━━━━━━━━━━━━━━━━━━━━━\u001B[0m \u001B[32m10.7/10.7 MB\u001B[0m \u001B[31m599.3 kB/s\u001B[0m eta \u001B[36m0:00:00\u001B[0m00:01\u001B[0m00:01\u001B[0m\r\n",
      "\u001B[?25h  Installing build dependencies ... \u001B[?25ldone\r\n",
      "\u001B[?25h  Getting requirements to build wheel ... \u001B[?25lerror\r\n",
      "  \u001B[1;31merror\u001B[0m: \u001B[1msubprocess-exited-with-error\u001B[0m\r\n",
      "  \r\n",
      "  \u001B[31m×\u001B[0m \u001B[32mGetting requirements to build wheel\u001B[0m did not run successfully.\r\n",
      "  \u001B[31m│\u001B[0m exit code: \u001B[1;36m1\u001B[0m\r\n",
      "  \u001B[31m╰─>\u001B[0m \u001B[31m[33 lines of output]\u001B[0m\r\n",
      "  \u001B[31m   \u001B[0m Traceback (most recent call last):\r\n",
      "  \u001B[31m   \u001B[0m   File \"/Users/enesdemir/Desktop/NewsClassification/.venv/lib/python3.12/site-packages/pip/_vendor/pyproject_hooks/_in_process/_in_process.py\", line 353, in <module>\r\n",
      "  \u001B[31m   \u001B[0m     main()\r\n",
      "  \u001B[31m   \u001B[0m   File \"/Users/enesdemir/Desktop/NewsClassification/.venv/lib/python3.12/site-packages/pip/_vendor/pyproject_hooks/_in_process/_in_process.py\", line 335, in main\r\n",
      "  \u001B[31m   \u001B[0m     json_out['return_val'] = hook(**hook_input['kwargs'])\r\n",
      "  \u001B[31m   \u001B[0m                              ^^^^^^^^^^^^^^^^^^^^^^^^^^^^\r\n",
      "  \u001B[31m   \u001B[0m   File \"/Users/enesdemir/Desktop/NewsClassification/.venv/lib/python3.12/site-packages/pip/_vendor/pyproject_hooks/_in_process/_in_process.py\", line 112, in get_requires_for_build_wheel\r\n",
      "  \u001B[31m   \u001B[0m     backend = _build_backend()\r\n",
      "  \u001B[31m   \u001B[0m               ^^^^^^^^^^^^^^^^\r\n",
      "  \u001B[31m   \u001B[0m   File \"/Users/enesdemir/Desktop/NewsClassification/.venv/lib/python3.12/site-packages/pip/_vendor/pyproject_hooks/_in_process/_in_process.py\", line 77, in _build_backend\r\n",
      "  \u001B[31m   \u001B[0m     obj = import_module(mod_path)\r\n",
      "  \u001B[31m   \u001B[0m           ^^^^^^^^^^^^^^^^^^^^^^^\r\n",
      "  \u001B[31m   \u001B[0m   File \"/opt/anaconda3/lib/python3.12/importlib/__init__.py\", line 90, in import_module\r\n",
      "  \u001B[31m   \u001B[0m     return _bootstrap._gcd_import(name[level:], package, level)\r\n",
      "  \u001B[31m   \u001B[0m            ^^^^^^^^^^^^^^^^^^^^^^^^^^^^^^^^^^^^^^^^^^^^^^^^^^^^\r\n",
      "  \u001B[31m   \u001B[0m   File \"<frozen importlib._bootstrap>\", line 1387, in _gcd_import\r\n",
      "  \u001B[31m   \u001B[0m   File \"<frozen importlib._bootstrap>\", line 1360, in _find_and_load\r\n",
      "  \u001B[31m   \u001B[0m   File \"<frozen importlib._bootstrap>\", line 1310, in _find_and_load_unlocked\r\n",
      "  \u001B[31m   \u001B[0m   File \"<frozen importlib._bootstrap>\", line 488, in _call_with_frames_removed\r\n",
      "  \u001B[31m   \u001B[0m   File \"<frozen importlib._bootstrap>\", line 1387, in _gcd_import\r\n",
      "  \u001B[31m   \u001B[0m   File \"<frozen importlib._bootstrap>\", line 1360, in _find_and_load\r\n",
      "  \u001B[31m   \u001B[0m   File \"<frozen importlib._bootstrap>\", line 1331, in _find_and_load_unlocked\r\n",
      "  \u001B[31m   \u001B[0m   File \"<frozen importlib._bootstrap>\", line 935, in _load_unlocked\r\n",
      "  \u001B[31m   \u001B[0m   File \"<frozen importlib._bootstrap_external>\", line 995, in exec_module\r\n",
      "  \u001B[31m   \u001B[0m   File \"<frozen importlib._bootstrap>\", line 488, in _call_with_frames_removed\r\n",
      "  \u001B[31m   \u001B[0m   File \"/private/var/folders/pv/pr_x9g556yxg3mhjg9g3hwj80000gn/T/pip-build-env-kxhxqxu1/overlay/lib/python3.12/site-packages/setuptools/__init__.py\", line 16, in <module>\r\n",
      "  \u001B[31m   \u001B[0m     import setuptools.version\r\n",
      "  \u001B[31m   \u001B[0m   File \"/private/var/folders/pv/pr_x9g556yxg3mhjg9g3hwj80000gn/T/pip-build-env-kxhxqxu1/overlay/lib/python3.12/site-packages/setuptools/version.py\", line 1, in <module>\r\n",
      "  \u001B[31m   \u001B[0m     import pkg_resources\r\n",
      "  \u001B[31m   \u001B[0m   File \"/private/var/folders/pv/pr_x9g556yxg3mhjg9g3hwj80000gn/T/pip-build-env-kxhxqxu1/overlay/lib/python3.12/site-packages/pkg_resources/__init__.py\", line 2172, in <module>\r\n",
      "  \u001B[31m   \u001B[0m     register_finder(pkgutil.ImpImporter, find_on_path)\r\n",
      "  \u001B[31m   \u001B[0m                     ^^^^^^^^^^^^^^^^^^^\r\n",
      "  \u001B[31m   \u001B[0m AttributeError: module 'pkgutil' has no attribute 'ImpImporter'. Did you mean: 'zipimporter'?\r\n",
      "  \u001B[31m   \u001B[0m \u001B[31m[end of output]\u001B[0m\r\n",
      "  \r\n",
      "  \u001B[1;35mnote\u001B[0m: This error originates from a subprocess, and is likely not a problem with pip.\r\n",
      "\r\n",
      "\u001B[1m[\u001B[0m\u001B[34;49mnotice\u001B[0m\u001B[1;39;49m]\u001B[0m\u001B[39;49m A new release of pip is available: \u001B[0m\u001B[31;49m24.2\u001B[0m\u001B[39;49m -> \u001B[0m\u001B[32;49m25.1.1\u001B[0m\r\n",
      "\u001B[1m[\u001B[0m\u001B[34;49mnotice\u001B[0m\u001B[1;39;49m]\u001B[0m\u001B[39;49m To update, run: \u001B[0m\u001B[32;49mpip install --upgrade pip\u001B[0m\r\n",
      "\u001B[1;31merror\u001B[0m: \u001B[1msubprocess-exited-with-error\u001B[0m\r\n",
      "\r\n",
      "\u001B[31m×\u001B[0m \u001B[32mGetting requirements to build wheel\u001B[0m did not run successfully.\r\n",
      "\u001B[31m│\u001B[0m exit code: \u001B[1;36m1\u001B[0m\r\n",
      "\u001B[31m╰─>\u001B[0m See above for output.\r\n",
      "\r\n",
      "\u001B[1;35mnote\u001B[0m: This error originates from a subprocess, and is likely not a problem with pip.\r\n",
      "\u001B[?25hNote: you may need to restart the kernel to use updated packages.\n"
     ]
    }
   ],
   "execution_count": 5
  },
  {
   "metadata": {},
   "cell_type": "code",
   "outputs": [],
   "execution_count": null,
   "source": "",
   "id": "6abc3593ac672bbc"
  }
 ],
 "metadata": {
  "kernelspec": {
   "display_name": "Python 3",
   "language": "python",
   "name": "python3"
  },
  "language_info": {
   "codemirror_mode": {
    "name": "ipython",
    "version": 2
   },
   "file_extension": ".py",
   "mimetype": "text/x-python",
   "name": "python",
   "nbconvert_exporter": "python",
   "pygments_lexer": "ipython2",
   "version": "2.7.6"
  }
 },
 "nbformat": 4,
 "nbformat_minor": 5
}
